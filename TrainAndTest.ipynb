## 1. 데이터 복사하기
  
main.py  
model.py  
...  
data  
   
코드 위치로 데이터(이미지와 CSV 파일)를 모두 복사

!ls /home/workspace/data/.train/.task153/data -al

!cp -r /home/workspace/data/.train/.task153/data ./

## 2. 개발환경설정

!pip install torch==1.7.0+cu101 torchvision==0.8.1+cu101 torchaudio==0.7.0 -f https://download.pytorch.org/whl/torch_stable.html pretrainedmodels efficientnet_pytorch scikit-learn pandas pillow

## 3. 모델 훈련하기

최종결과에서 6개의 모델을 앙상블했기 때문에 main.py에서 총 6개의 모델을 훈련시켜야합니다.  
3개의 Xception 모델과 3개의 EfficientNetB5 모델을 사용했습니다.  

<br>

--net_type: 네트워크 종류를 나타냅니다.  
- xception모델 같은 경우는 'xception'
- efficientNet 같은 경우는 타입에 따라서 ['b0', 'b1', 'b2', 'b3', 'b4', 'b5', 'b6', 'b7'] 중에서 써준다.

<br>

--model_save_dir: 모델을 저장할 디렉토리를 지정합니다.  
  
--prediction_file: validation 파일의 저장위치와 이름을 지정합니다. 

!python main.py --net_type b5 --model_save_dir ./model/b5_final_0 --prediction_file ./validation.csv

!python main.py --net_type b5 --model_save_dir ./model/b5_final_1 --prediction_file ./validation.csv

!python main.py --net_type b5 --model_save_dir ./model/b5_final_2 --prediction_file ./validation.csv

!python main.py --net_type xception --model_save_dir ./model/xception_final_0 --prediction_file ./validation.csv

!python main.py --net_type xception --model_save_dir ./model/xception_final_1 --prediction_file ./validation.csv

!python main.py --net_type xception --model_save_dir ./model/xception_final_2 --prediction_file ./validation.csv

## 4. 테스트 데이터 예측 (앙상블)

main.py의 368,369번째 줄 model_types와 saved_model 리스트에 앙상블하여 테스트 데이터를 예측할 모델들을 넣어준다.
  
  
model_types은 아래와 같은 방법으로 사용한다.
- xception모델 같은 경우는 'xception'
- efficientNet 같은 경우는 타입에 따라서 ['b0', 'b1', 'b2', 'b3', 'b4', 'b5', 'b6', 'b7'] 중에서 써준다.
  
  
saved_model은 아래와 같은 방법으로 사용한다.  
- saved_model은 model_types와 같은 인덱스가 서로 짝지어지는데 불러올 모델의 경로를 위와 같이 넣어준다.

<br><br>

최종 예시)  
model_types = ['xception', 'xception', 'xception', 'b5', 'b5', 'b5']  
saved_model = ['./model/xception_0/best.pth', './model/xception_1/best.pth', './model/xception_2/best.pth', './model/15_b5/best.pth', './model/b5_0/best.pth', './model/b5_1/best.pth']  
**첨부된 모델 파일로 테스트를 진행하려면 그냥 다음 셀을 실행시키시면 됩니다.**

<br><br>

**만약 위 3번에서 트레이닝한 모델로 테스트를 진행하려면 main.py의 368,369줄을 아래 것으로 바꿔주세요!!**  
model_types = ['xception', 'xception', 'xception', 'b5', 'b5', 'b5']  
saved_model = ['./model/xception_final_0/best.pth', './model/xception_final_1/best.pth', './model/xception_final_2/best.pth', './model/b5_final_0/best.pth', './model/b5_final_1/best.pth', './model/b5_final_2/best.pth']  

<br><br>

--prediction_file: 앙상블이나 테스트에선 test prediction 파일의 저장위치와 이름을 지정합니다.

import os 
os.mkdir('prediction')

!python main.py --mode ensemble --prediction_file ./prediction/153_ensemble_final.tsv

